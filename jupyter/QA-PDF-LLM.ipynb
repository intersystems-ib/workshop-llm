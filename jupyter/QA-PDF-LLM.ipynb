{
 "cells": [
  {
   "cell_type": "code",
   "execution_count": 11,
   "id": "9f7b5878-d158-4423-97d3-9baf3b4cfe1a",
   "metadata": {
    "editable": true,
    "slideshow": {
     "slide_type": ""
    },
    "tags": []
   },
   "outputs": [
    {
     "name": "stdin",
     "output_type": "stream",
     "text": [
      " ········\n"
     ]
    }
   ],
   "source": [
    "import irisnative\n",
    "import os\n",
    "import getpass\n",
    "from pypdf import PdfReader\n",
    "import sentence_transformers\n",
    "from langchain import hub\n",
    "from langchain_text_splitters import RecursiveCharacterTextSplitter\n",
    "from langchain_community.document_loaders import PyPDFDirectoryLoader\n",
    "from langchain_community.document_loaders import PyPDFLoader\n",
    "from langchain_core.runnables import RunnablePassthrough\n",
    "from langchain_core.output_parsers import StrOutputParser\n",
    "import numpy as np\n",
    "\n",
    "os.environ[\"MISTRAL_API_KEY\"] = getpass.getpass()\n",
    "\n",
    "from langchain_mistralai import ChatMistralAI"
   ]
  },
  {
   "cell_type": "code",
   "execution_count": 12,
   "id": "915cd2cb-059f-40b1-86b3-7ead09269b50",
   "metadata": {},
   "outputs": [
    {
     "name": "stdout",
     "output_type": "stream",
     "text": [
      "Connected\n"
     ]
    }
   ],
   "source": [
    "connection_string = \"iris:1972/LLMRAG\"\n",
    "username = \"superuser\"\n",
    "password = \"SYS\"\n",
    "\n",
    "connectionIRIS = irisnative.createConnection(connection_string, username, password)\n",
    "cursorIRIS = connectionIRIS.cursor()\n",
    "print(\"Connected\")\n",
    "\n",
    "llm = ChatMistralAI(model=\"mistral-large-latest\")"
   ]
  },
  {
   "cell_type": "code",
   "execution_count": 13,
   "id": "3961787a-327b-4f8a-bd8e-a929ee686eee",
   "metadata": {},
   "outputs": [],
   "source": [
    "if not os.path.isdir('/app/data/model/'):\n",
    "    model = sentence_transformers.SentenceTransformer('sentence-transformers/paraphrase-multilingual-MiniLM-L12-v2')            \n",
    "    model.save('/app/data/model/')"
   ]
  },
  {
   "cell_type": "code",
   "execution_count": 14,
   "id": "944333c1",
   "metadata": {},
   "outputs": [],
   "source": [
    "text_splitter = RecursiveCharacterTextSplitter(\n",
    "    chunk_size = 700,\n",
    "    chunk_overlap  = 50,\n",
    ")\n",
    "path = \"/app/data\"\n",
    "loader = PyPDFDirectoryLoader(path)\n",
    "docs_before_split = loader.load()\n",
    "docs_after_split = text_splitter.split_documents(docs_before_split)\n",
    "model = sentence_transformers.SentenceTransformer(\"/app/data/model/\")\n",
    "for doc in docs_after_split:\n",
    "    embeddings = model.encode(doc.page_content, normalize_embeddings=True)\n",
    "    array = np.array(embeddings)\n",
    "    formatted_array = np.vectorize('{:.12f}'.format)(array)\n",
    "    parameters = []\n",
    "    parameters.append(doc.metadata['source'])\n",
    "    parameters.append(str(doc.page_content))\n",
    "    parameters.append(str(','.join(formatted_array)))\n",
    "    cursorIRIS.execute(\"INSERT INTO LLMRAG.DOCUMENTCHUNK (Document, Phrase, VectorizedPhrase) VALUES (?, ?, TO_VECTOR(?,DECIMAL))\", parameters)\n",
    "connectionIRIS.commit()\n"
   ]
  },
  {
   "cell_type": "code",
   "execution_count": 15,
   "id": "0f4596f7-e4a6-464b-9086-91c5c16e6093",
   "metadata": {},
   "outputs": [],
   "source": [
    "question = model.encode(\"¿Qué medicamento puede tomar mi hijo de 2 años para bajar la fiebre?\", normalize_embeddings=True)\n",
    "array = np.array(question)\n",
    "formatted_array = np.vectorize('{:.12f}'.format)(array)\n",
    "parameterQuery = []\n",
    "parameterQuery.append(str(','.join(formatted_array)))\n",
    "cursorIRIS.execute(\"SELECT distinct(Document) FROM (SELECT VECTOR_DOT_PRODUCT(VectorizedPhrase, TO_VECTOR(?, DECIMAL)) AS similarity, Document FROM LLMRAG.DOCUMENTCHUNK) WHERE similarity > 0.6\", parameterQuery)\n",
    "similarityRows = cursorIRIS.fetchall()"
   ]
  },
  {
   "cell_type": "code",
   "execution_count": 16,
   "id": "426e6299-8911-46a7-a83d-789b570434fe",
   "metadata": {},
   "outputs": [
    {
     "name": "stdout",
     "output_type": "stream",
     "text": [
      "Hay resultados\n"
     ]
    },
    {
     "name": "stderr",
     "output_type": "stream",
     "text": [
      "/opt/conda/lib/python3.11/site-packages/langsmith/client.py:241: LangSmithMissingAPIKeyWarning: API key must be provided when using hosted LangSmith API\n",
      "  warnings.warn(\n"
     ]
    },
    {
     "data": {
      "text/plain": [
       "'Dalsy (ibuprofeno) puede ser utilizado en niños a partir de 3 meses para el alivio de la fiebre. Para un niño de 2 años, la dosis recomendada depende del peso y debe ser administrada bajo prescripción médica.'"
      ]
     },
     "execution_count": 16,
     "metadata": {},
     "output_type": "execute_result"
    }
   ],
   "source": [
    "context = ''\n",
    "for similarityRow in similarityRows:\n",
    "    print(\"Hay resultados\")\n",
    "    for doc in docs_before_split:\n",
    "        if similarityRow[0] == doc.metadata['source'].upper():\n",
    "            context = context +\"\".join(doc.page_content)\n",
    "prompt = hub.pull(\"rlm/rag-prompt\")\n",
    "\n",
    "rag_chain = (\n",
    "    {\"context\": lambda x: context, \"question\": RunnablePassthrough()}\n",
    "    | prompt\n",
    "    | llm\n",
    "    | StrOutputParser()\n",
    ")\n",
    "\n",
    "rag_chain.invoke(\"¿Qué medicamento puede tomar mi hijo de 2 años para bajar la fiebre?\")"
   ]
  },
  {
   "cell_type": "code",
   "execution_count": 17,
   "id": "dae9ebab-79d7-41f4-af08-090f0ac22d61",
   "metadata": {},
   "outputs": [],
   "source": [
    "connectionIRIS.close()\n"
   ]
  }
 ],
 "metadata": {
  "kernelspec": {
   "display_name": "Python 3 (ipykernel)",
   "language": "python",
   "name": "python3"
  },
  "language_info": {
   "codemirror_mode": {
    "name": "ipython",
    "version": 3
   },
   "file_extension": ".py",
   "mimetype": "text/x-python",
   "name": "python",
   "nbconvert_exporter": "python",
   "pygments_lexer": "ipython3",
   "version": "3.11.6"
  }
 },
 "nbformat": 4,
 "nbformat_minor": 5
}
